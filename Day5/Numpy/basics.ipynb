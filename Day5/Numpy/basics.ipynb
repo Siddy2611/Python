{
 "cells": [
  {
   "cell_type": "code",
   "execution_count": 9,
   "id": "846b29fa-c9b8-47f2-b41e-394b6a27e7bc",
   "metadata": {},
   "outputs": [
    {
     "name": "stdout",
     "output_type": "stream",
     "text": [
      "[1 2 3 5]\n"
     ]
    },
    {
     "data": {
      "text/plain": [
       "4"
      ]
     },
     "execution_count": 9,
     "metadata": {},
     "output_type": "execute_result"
    }
   ],
   "source": [
    "import numpy as np\n",
    "arr=np.array([1,2,3,5])\n",
    "print(arr)\n",
    "arr.size"
   ]
  },
  {
   "cell_type": "code",
   "execution_count": 12,
   "id": "a7a2b893-94c9-41bc-a10b-d6b6f0f5a9a2",
   "metadata": {},
   "outputs": [
    {
     "name": "stdout",
     "output_type": "stream",
     "text": [
      "[[1 2 3]\n",
      " [4 5 6]\n",
      " [7 8 9]]\n"
     ]
    },
    {
     "data": {
      "text/plain": [
       "(3, 3)"
      ]
     },
     "execution_count": 12,
     "metadata": {},
     "output_type": "execute_result"
    }
   ],
   "source": [
    "mul_arr=np.array([[1,2,3],[4,5,6],[7,8,9]]) #multi-dimensional array\n",
    "print(mul_arr)\n",
    "mul_arr.dtype\n",
    "mul_arr.shape\n"
   ]
  },
  {
   "cell_type": "code",
   "execution_count": 14,
   "id": "3cbf2d77-682f-439b-ae17-30fabf3469c8",
   "metadata": {},
   "outputs": [
    {
     "name": "stdout",
     "output_type": "stream",
     "text": [
      "[1 3 5 7 9] \n",
      "\n",
      "[[0. 0. 0.]\n",
      " [0. 0. 0.]] \n",
      "\n",
      "[[1. 1. 1.]]\n"
     ]
    }
   ],
   "source": [
    "auto=np.arange(1,11,2)#generates an array from 1 to 10 and 2 is the step.\n",
    "print(auto,\"\\n\")\n",
    "zero=np.zeros([2,3]) #Generates an array consisting of zeroes of 2 rows and 3 columns\n",
    "print(zero,\"\\n\")\n",
    "ones=np.ones((1,3)) #Generates an array consisting of ones of 1 rows and 3 columns\n",
    "print(ones)"
   ]
  },
  {
   "cell_type": "code",
   "execution_count": 18,
   "id": "8d0704e3-3fc7-4f8d-bd33-b3c94946b439",
   "metadata": {},
   "outputs": [
    {
     "name": "stdout",
     "output_type": "stream",
     "text": [
      "(array([2.  , 2.25, 2.5 , 2.75, 3.  ]), np.float64(0.25))\n"
     ]
    }
   ],
   "source": [
    "lin=np.linspace(2.0,3.0,5,retstep=True)\n",
    "print(lin)"
   ]
  },
  {
   "cell_type": "code",
   "execution_count": 28,
   "id": "08a7684c",
   "metadata": {},
   "outputs": [
    {
     "name": "stdout",
     "output_type": "stream",
     "text": [
      "[[2 3 4]\n",
      " [1 5 7]]\n",
      "22\n",
      "1\n",
      "7\n",
      "1.9720265943665387\n",
      "[ 3  8 11]\n",
      "[ 9 13]\n",
      "3\n",
      "5\n"
     ]
    }
   ],
   "source": [
    "math=np.array([[2,3,4],[1,5,7]])\n",
    "print(math)\n",
    "print(math.sum())\n",
    "print(math.min())\n",
    "print(math.max())\n",
    "print(math.std())\n",
    "print(np.sum(math,axis=0))#column wise sum\n",
    "print(np.sum(math,axis=1))#row wise sum\n",
    "print(math.argmin())#gives index of minimum element\n",
    "print(math.argmax())#gives index of maximum element"
   ]
  },
  {
   "cell_type": "code",
   "execution_count": 31,
   "id": "7ccd66ac-dbf2-45c3-a687-33aaffdae727",
   "metadata": {},
   "outputs": [
    {
     "name": "stdout",
     "output_type": "stream",
     "text": [
      "[[2 3]\n",
      " [4 1]\n",
      " [5 7]]\n"
     ]
    }
   ],
   "source": [
    "math=math.reshape(3,2)\n",
    "print(math) #reshaped and resized"
   ]
  },
  {
   "cell_type": "code",
   "execution_count": null,
   "id": "05526b7e-f646-493d-b989-b09715ef9cd3",
   "metadata": {},
   "outputs": [],
   "source": []
  }
 ],
 "metadata": {
  "kernelspec": {
   "display_name": "Python 3 (ipykernel)",
   "language": "python",
   "name": "python3"
  },
  "language_info": {
   "codemirror_mode": {
    "name": "ipython",
    "version": 3
   },
   "file_extension": ".py",
   "mimetype": "text/x-python",
   "name": "python",
   "nbconvert_exporter": "python",
   "pygments_lexer": "ipython3",
   "version": "3.12.3"
  }
 },
 "nbformat": 4,
 "nbformat_minor": 5
}
