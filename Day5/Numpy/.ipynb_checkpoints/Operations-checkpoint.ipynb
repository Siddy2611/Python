{
 "cells": [
  {
   "cell_type": "code",
   "execution_count": 45,
   "id": "3bb310cb-4dcb-4f02-a3a1-dae5ebcce1b0",
   "metadata": {},
   "outputs": [
    {
     "data": {
      "text/plain": [
       "array([15, 16, 17, 18])"
      ]
     },
     "execution_count": 45,
     "metadata": {},
     "output_type": "execute_result"
    }
   ],
   "source": [
    "import numpy as np\n",
    "\n",
    "arr1=np.array([1,2,3,4])\n",
    "arr2=np.array([5,6,7,8])\n",
    "arr1+arr2 #both array should be of same size\n",
    "arr2+10"
   ]
  },
  {
   "cell_type": "code",
   "execution_count": 48,
   "id": "e50fcada-bb7d-4253-912d-d0701e11d271",
   "metadata": {},
   "outputs": [
    {
     "data": {
      "text/plain": [
       "array([10,  2,  3,  4,  5])"
      ]
     },
     "execution_count": 48,
     "metadata": {},
     "output_type": "execute_result"
    }
   ],
   "source": [
    "#DEEP COPY\n",
    "\n",
    "a=np.array([1,2,3,4,5])\n",
    "b=a\n",
    "b[0]=10\n",
    "a"
   ]
  },
  {
   "cell_type": "code",
   "execution_count": 54,
   "id": "336adb89-30aa-4891-b1b1-f25e0fc4190d",
   "metadata": {},
   "outputs": [
    {
     "name": "stdout",
     "output_type": "stream",
     "text": [
      "[20 30]\n"
     ]
    },
    {
     "data": {
      "text/plain": [
       "array([10,  2,  3,  4,  5])"
      ]
     },
     "execution_count": 54,
     "metadata": {},
     "output_type": "execute_result"
    }
   ],
   "source": [
    "#SHALLOW COPY\n",
    "slice=a[1:3]*10\n",
    "print(slice)\n",
    "a"
   ]
  },
  {
   "cell_type": "code",
   "execution_count": 63,
   "id": "9d183a6c-8b4d-4407-85f1-dca0c3be9178",
   "metadata": {},
   "outputs": [
    {
     "name": "stdout",
     "output_type": "stream",
     "text": [
      "[[1 2 3]\n",
      " [2 4 5]]\n",
      "[[2 3]\n",
      " [4 5]\n",
      " [6 6]]\n"
     ]
    },
    {
     "data": {
      "text/plain": [
       "array([[1, 2],\n",
       "       [2, 4],\n",
       "       [3, 5]])"
      ]
     },
     "execution_count": 63,
     "metadata": {},
     "output_type": "execute_result"
    }
   ],
   "source": [
    "AB=np.array([[1,2,3],[2,4,5]])\n",
    "BC=np.array([[2,3],[4,5],[6,6]])\n",
    "print(AB)\n",
    "print(BC)\n",
    "np.dot(AB,BC)#AB@BC\n",
    "AB.transpose()#A.T #rows become columns \n"
   ]
  },
  {
   "cell_type": "code",
   "execution_count": 65,
   "id": "13be71ac-36c9-4310-b35d-bf2f8e04d869",
   "metadata": {},
   "outputs": [
    {
     "data": {
      "text/plain": [
       "array([[1, 2, 3, 4],\n",
       "       [2, 3, 3, 4]])"
      ]
     },
     "execution_count": 65,
     "metadata": {},
     "output_type": "execute_result"
    }
   ],
   "source": [
    "A=np.array([1,2,3,4])\n",
    "B=np.array([2,3,3,4])\n",
    "np.vstack((A,B))"
   ]
  },
  {
   "cell_type": "code",
   "execution_count": 66,
   "id": "e90bd09c-7b67-4f46-8ea6-201e5740fb7b",
   "metadata": {},
   "outputs": [
    {
     "data": {
      "text/plain": [
       "array([1, 2, 3, 4, 2, 3, 3, 4])"
      ]
     },
     "execution_count": 66,
     "metadata": {},
     "output_type": "execute_result"
    }
   ],
   "source": [
    "np.hstack((A,B))"
   ]
  },
  {
   "cell_type": "code",
   "execution_count": 67,
   "id": "242db8a7-6da9-4cab-85a4-7119400be15c",
   "metadata": {},
   "outputs": [
    {
     "data": {
      "text/plain": [
       "array([[1, 2],\n",
       "       [2, 3],\n",
       "       [3, 3],\n",
       "       [4, 4]])"
      ]
     },
     "execution_count": 67,
     "metadata": {},
     "output_type": "execute_result"
    }
   ],
   "source": [
    "np.column_stack((A,B))"
   ]
  },
  {
   "cell_type": "code",
   "execution_count": 74,
   "id": "f9265547-2a9c-4bf5-9b59-1b5229dbaa96",
   "metadata": {},
   "outputs": [
    {
     "name": "stdout",
     "output_type": "stream",
     "text": [
      "[[ 0  1  2  3]\n",
      " [ 4  5  6  7]\n",
      " [ 8  9 10 11]\n",
      " [12 13 14 15]]\n"
     ]
    },
    {
     "data": {
      "text/plain": [
       "[array([[ 0,  1],\n",
       "        [ 4,  5],\n",
       "        [ 8,  9],\n",
       "        [12, 13]]),\n",
       " array([[ 2,  3],\n",
       "        [ 6,  7],\n",
       "        [10, 11],\n",
       "        [14, 15]])]"
      ]
     },
     "execution_count": 74,
     "metadata": {},
     "output_type": "execute_result"
    }
   ],
   "source": [
    "c=np.arange(16).reshape(4,4)\n",
    "print(c)\n",
    "np.hsplit(c,2)"
   ]
  },
  {
   "cell_type": "code",
   "execution_count": 77,
   "id": "b117758d-09c7-4570-b140-67ac7782a265",
   "metadata": {},
   "outputs": [
    {
     "data": {
      "text/plain": [
       "[array([[0, 1, 2, 3],\n",
       "        [4, 5, 6, 7]]),\n",
       " array([[ 8,  9, 10, 11],\n",
       "        [12, 13, 14, 15]])]"
      ]
     },
     "execution_count": 77,
     "metadata": {},
     "output_type": "execute_result"
    }
   ],
   "source": [
    "np.vsplit(c,2)"
   ]
  },
  {
   "cell_type": "code",
   "execution_count": null,
   "id": "1b8796e7-5b7d-4c5a-aa1c-97081e856a82",
   "metadata": {},
   "outputs": [],
   "source": []
  }
 ],
 "metadata": {
  "kernelspec": {
   "display_name": "Python 3 (ipykernel)",
   "language": "python",
   "name": "python3"
  },
  "language_info": {
   "codemirror_mode": {
    "name": "ipython",
    "version": 3
   },
   "file_extension": ".py",
   "mimetype": "text/x-python",
   "name": "python",
   "nbconvert_exporter": "python",
   "pygments_lexer": "ipython3",
   "version": "3.12.3"
  }
 },
 "nbformat": 4,
 "nbformat_minor": 5
}
