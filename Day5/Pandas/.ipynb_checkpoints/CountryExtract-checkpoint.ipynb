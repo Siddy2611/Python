{
 "cells": [
  {
   "cell_type": "code",
   "execution_count": 6,
   "id": "f837d64e-1695-4353-b423-04bc3873cdc3",
   "metadata": {},
   "outputs": [
    {
     "data": {
      "text/html": [
       "<div>\n",
       "<style scoped>\n",
       "    .dataframe tbody tr th:only-of-type {\n",
       "        vertical-align: middle;\n",
       "    }\n",
       "\n",
       "    .dataframe tbody tr th {\n",
       "        vertical-align: top;\n",
       "    }\n",
       "\n",
       "    .dataframe thead th {\n",
       "        text-align: right;\n",
       "    }\n",
       "</style>\n",
       "<table border=\"1\" class=\"dataframe\">\n",
       "  <thead>\n",
       "    <tr style=\"text-align: right;\">\n",
       "      <th></th>\n",
       "      <th>country</th>\n",
       "      <th>country_long</th>\n",
       "      <th>currency</th>\n",
       "      <th>capital_city</th>\n",
       "      <th>region</th>\n",
       "      <th>continent</th>\n",
       "      <th>demonym</th>\n",
       "      <th>latitude</th>\n",
       "      <th>longitude</th>\n",
       "      <th>agricultural_land</th>\n",
       "      <th>...</th>\n",
       "      <th>population</th>\n",
       "      <th>women_parliament_seats_pct</th>\n",
       "      <th>rural_population</th>\n",
       "      <th>urban_population</th>\n",
       "      <th>press</th>\n",
       "      <th>democracy_score</th>\n",
       "      <th>democracy_type</th>\n",
       "      <th>median_age</th>\n",
       "      <th>political_leader</th>\n",
       "      <th>title</th>\n",
       "    </tr>\n",
       "  </thead>\n",
       "  <tbody>\n",
       "    <tr>\n",
       "      <th>0</th>\n",
       "      <td>Afghanistan</td>\n",
       "      <td>Islamic State of Afghanistan</td>\n",
       "      <td>Afghan afghani</td>\n",
       "      <td>Kabul</td>\n",
       "      <td>Southern Asia</td>\n",
       "      <td>Asia</td>\n",
       "      <td>Afghan</td>\n",
       "      <td>33.0</td>\n",
       "      <td>65.0</td>\n",
       "      <td>383560.0</td>\n",
       "      <td>...</td>\n",
       "      <td>41128771</td>\n",
       "      <td>27.01610</td>\n",
       "      <td>30181937</td>\n",
       "      <td>10946834</td>\n",
       "      <td>2.14</td>\n",
       "      <td>2.97</td>\n",
       "      <td>Authoritarian</td>\n",
       "      <td>12.9</td>\n",
       "      <td>Ashraf Ghani</td>\n",
       "      <td>President</td>\n",
       "    </tr>\n",
       "    <tr>\n",
       "      <th>1</th>\n",
       "      <td>Albania</td>\n",
       "      <td>Republic of Albania</td>\n",
       "      <td>Albanian lek</td>\n",
       "      <td>Tirana</td>\n",
       "      <td>Southern Europe</td>\n",
       "      <td>Europe</td>\n",
       "      <td>Albanian</td>\n",
       "      <td>41.0</td>\n",
       "      <td>20.0</td>\n",
       "      <td>11655.5</td>\n",
       "      <td>...</td>\n",
       "      <td>2775634</td>\n",
       "      <td>35.71430</td>\n",
       "      <td>1004807</td>\n",
       "      <td>1770827</td>\n",
       "      <td>2.62</td>\n",
       "      <td>5.98</td>\n",
       "      <td>Hybrid regime</td>\n",
       "      <td>33.7</td>\n",
       "      <td>Edi Rama</td>\n",
       "      <td>Prime Minister</td>\n",
       "    </tr>\n",
       "    <tr>\n",
       "      <th>2</th>\n",
       "      <td>Algeria</td>\n",
       "      <td>People's Democratic Republic of Algeria</td>\n",
       "      <td>Algerian dinar</td>\n",
       "      <td>Algiers</td>\n",
       "      <td>Northern Africa</td>\n",
       "      <td>Africa</td>\n",
       "      <td>Algerian</td>\n",
       "      <td>28.0</td>\n",
       "      <td>3.0</td>\n",
       "      <td>413588.0</td>\n",
       "      <td>...</td>\n",
       "      <td>44903225</td>\n",
       "      <td>8.10811</td>\n",
       "      <td>11328186</td>\n",
       "      <td>33575039</td>\n",
       "      <td>1.71</td>\n",
       "      <td>3.50</td>\n",
       "      <td>Authoritarian</td>\n",
       "      <td>24.0</td>\n",
       "      <td>Abdelmadjid Tebboune</td>\n",
       "      <td>President</td>\n",
       "    </tr>\n",
       "    <tr>\n",
       "      <th>3</th>\n",
       "      <td>Andorra</td>\n",
       "      <td>Principality of Andorra</td>\n",
       "      <td>Euro</td>\n",
       "      <td>Andorra la Vella</td>\n",
       "      <td>Southern Europe</td>\n",
       "      <td>Europe</td>\n",
       "      <td>Andorran</td>\n",
       "      <td>42.5</td>\n",
       "      <td>1.5</td>\n",
       "      <td>187.2</td>\n",
       "      <td>...</td>\n",
       "      <td>79824</td>\n",
       "      <td>46.42860</td>\n",
       "      <td>9730</td>\n",
       "      <td>70094</td>\n",
       "      <td>3.17</td>\n",
       "      <td>0.00</td>\n",
       "      <td>Unknown</td>\n",
       "      <td>38.9</td>\n",
       "      <td>Xavier Espot Zamora</td>\n",
       "      <td>Head of Government</td>\n",
       "    </tr>\n",
       "    <tr>\n",
       "      <th>4</th>\n",
       "      <td>Angola</td>\n",
       "      <td>People's Republic of Angola</td>\n",
       "      <td>Angolan kwanza</td>\n",
       "      <td>Luanda</td>\n",
       "      <td>Middle Africa</td>\n",
       "      <td>Africa</td>\n",
       "      <td>Angolan</td>\n",
       "      <td>-12.5</td>\n",
       "      <td>18.5</td>\n",
       "      <td>569525.0</td>\n",
       "      <td>...</td>\n",
       "      <td>35588987</td>\n",
       "      <td>33.63640</td>\n",
       "      <td>11359649</td>\n",
       "      <td>24229338</td>\n",
       "      <td>2.24</td>\n",
       "      <td>3.62</td>\n",
       "      <td>Authoritarian</td>\n",
       "      <td>12.4</td>\n",
       "      <td>João Lourenço</td>\n",
       "      <td>President</td>\n",
       "    </tr>\n",
       "  </tbody>\n",
       "</table>\n",
       "<p>5 rows × 64 columns</p>\n",
       "</div>"
      ],
      "text/plain": [
       "       country                             country_long        currency  \\\n",
       "0  Afghanistan             Islamic State of Afghanistan  Afghan afghani   \n",
       "1      Albania                      Republic of Albania    Albanian lek   \n",
       "2      Algeria  People's Democratic Republic of Algeria  Algerian dinar   \n",
       "3      Andorra                  Principality of Andorra            Euro   \n",
       "4       Angola              People's Republic of Angola  Angolan kwanza   \n",
       "\n",
       "       capital_city           region continent   demonym  latitude  longitude  \\\n",
       "0             Kabul    Southern Asia      Asia    Afghan      33.0       65.0   \n",
       "1            Tirana  Southern Europe    Europe  Albanian      41.0       20.0   \n",
       "2           Algiers  Northern Africa    Africa  Algerian      28.0        3.0   \n",
       "3  Andorra la Vella  Southern Europe    Europe  Andorran      42.5        1.5   \n",
       "4            Luanda    Middle Africa    Africa   Angolan     -12.5       18.5   \n",
       "\n",
       "   agricultural_land  ...  population  women_parliament_seats_pct  \\\n",
       "0           383560.0  ...    41128771                    27.01610   \n",
       "1            11655.5  ...     2775634                    35.71430   \n",
       "2           413588.0  ...    44903225                     8.10811   \n",
       "3              187.2  ...       79824                    46.42860   \n",
       "4           569525.0  ...    35588987                    33.63640   \n",
       "\n",
       "   rural_population  urban_population  press  democracy_score  democracy_type  \\\n",
       "0          30181937          10946834   2.14             2.97   Authoritarian   \n",
       "1           1004807           1770827   2.62             5.98   Hybrid regime   \n",
       "2          11328186          33575039   1.71             3.50   Authoritarian   \n",
       "3              9730             70094   3.17             0.00         Unknown   \n",
       "4          11359649          24229338   2.24             3.62   Authoritarian   \n",
       "\n",
       "   median_age      political_leader               title  \n",
       "0        12.9          Ashraf Ghani           President  \n",
       "1        33.7              Edi Rama      Prime Minister  \n",
       "2        24.0  Abdelmadjid Tebboune           President  \n",
       "3        38.9   Xavier Espot Zamora  Head of Government  \n",
       "4        12.4         João Lourenço           President  \n",
       "\n",
       "[5 rows x 64 columns]"
      ]
     },
     "execution_count": 6,
     "metadata": {},
     "output_type": "execute_result"
    }
   ],
   "source": [
    "import pandas as pd\n",
    "import numpy as np\n",
    "\n",
    "df=pd.read_csv(r'Countries.csv')#name not case-sensitive\n",
    "df.head()"
   ]
  },
  {
   "cell_type": "code",
   "execution_count": 24,
   "id": "a78505f4-6d98-4c15-8e3c-38bc2e4abae0",
   "metadata": {},
   "outputs": [
    {
     "data": {
      "text/plain": [
       "Index(['country', 'country_long', 'currency', 'capital_city', 'region',\n",
       "       'continent', 'demonym', 'latitude', 'longitude', 'agricultural_land',\n",
       "       'forest_area', 'land_area', 'rural_land', 'urban_land',\n",
       "       'central_government_debt_pct_gdp', 'expense_pct_gdp', 'gdp',\n",
       "       'inflation', 'self_employed_pct', 'tax_revenue_pct_gdp',\n",
       "       'unemployment_pct', 'vulnerable_employment_pct',\n",
       "       'electricity_access_pct', 'alternative_nuclear_energy_pct',\n",
       "       'electricty_production_coal_pct',\n",
       "       'electricty_production_hydroelectric_pct',\n",
       "       'electricty_production_gas_pct', 'electricty_production_nuclear_pct',\n",
       "       'electricty_production_oil_pct', 'electricty_production_renewable_pct',\n",
       "       'energy_imports_pct', 'fossil_energy_consumption_pct',\n",
       "       'renewable_energy_consumption_pct', 'co2_emissions',\n",
       "       'methane_emissions', 'nitrous_oxide_emissions',\n",
       "       'greenhouse_other_emissions', 'urban_population_under_5m',\n",
       "       'health_expenditure_pct_gdp', 'health_expenditure_capita',\n",
       "       'hospital_beds', 'hiv_incidence', 'suicide_rate', 'armed_forces',\n",
       "       'internally_displaced_persons', 'military_expenditure_pct_gdp',\n",
       "       'birth_rate', 'death_rate', 'fertility_rate', 'internet_pct',\n",
       "       'life_expectancy', 'net_migration', 'population_female',\n",
       "       'population_male', 'population', 'women_parliament_seats_pct',\n",
       "       'rural_population', 'urban_population', 'press', 'democracy_score',\n",
       "       'democracy_type', 'median_age', 'political_leader', 'title'],\n",
       "      dtype='object')"
      ]
     },
     "execution_count": 24,
     "metadata": {},
     "output_type": "execute_result"
    }
   ],
   "source": [
    "shape=df.shape\n",
    "#info=df.info()\n",
    "size=df.size\n",
    "describe=df.describe\n",
    "df.columns"
   ]
  },
  {
   "cell_type": "code",
   "execution_count": 22,
   "id": "eb22ad79-2966-4f87-83fa-76f571ab0c55",
   "metadata": {},
   "outputs": [
    {
     "data": {
      "text/plain": [
       "75    India\n",
       "Name: country, dtype: object"
      ]
     },
     "execution_count": 22,
     "metadata": {},
     "output_type": "execute_result"
    }
   ],
   "source": [
    "df[df['population']==df['population'].max()]['country']"
   ]
  },
  {
   "cell_type": "code",
   "execution_count": 23,
   "id": "e36ca3cd-2f35-49f5-b5ca-1167c027dff6",
   "metadata": {},
   "outputs": [
    {
     "data": {
      "text/plain": [
       "179    Tuvalu\n",
       "Name: country, dtype: object"
      ]
     },
     "execution_count": 23,
     "metadata": {},
     "output_type": "execute_result"
    }
   ],
   "source": [
    "df[df['population']==df['population'].min()]['country']"
   ]
  },
  {
   "cell_type": "code",
   "execution_count": 26,
   "id": "ee3b2826-daba-4461-b7db-550689489b3b",
   "metadata": {},
   "outputs": [
    {
     "data": {
      "text/plain": [
       "179    Funafuti\n",
       "Name: capital_city, dtype: object"
      ]
     },
     "execution_count": 26,
     "metadata": {},
     "output_type": "execute_result"
    }
   ],
   "source": [
    "df[df['population']==df['population'].min()]['capital_city']"
   ]
  },
  {
   "cell_type": "code",
   "execution_count": 29,
   "id": "6f12c7ad-cd3d-4aef-a2d9-99c11d999a16",
   "metadata": {},
   "outputs": [],
   "source": [
    "df.sort_values(by='democracy_score',ascending=False,inplace=True)"
   ]
  },
  {
   "cell_type": "code",
   "execution_count": 32,
   "id": "2f728a2a-9977-4f0c-bef1-6e22f15733c1",
   "metadata": {},
   "outputs": [
    {
     "data": {
      "text/plain": [
       "127         Norway\n",
       "74         Iceland\n",
       "164         Sweden\n",
       "122    New Zealand\n",
       "46         Denmark\n",
       "Name: country, dtype: object"
      ]
     },
     "execution_count": 32,
     "metadata": {},
     "output_type": "execute_result"
    }
   ],
   "source": [
    "df['country'].head()"
   ]
  },
  {
   "cell_type": "code",
   "execution_count": 43,
   "id": "9aa87285-7317-47e5-8a43-8d64255b3dd1",
   "metadata": {},
   "outputs": [
    {
     "data": {
      "text/plain": [
       "np.int64(22)"
      ]
     },
     "execution_count": 43,
     "metadata": {},
     "output_type": "execute_result"
    }
   ],
   "source": [
    "df['region'].value_counts().count()"
   ]
  },
  {
   "cell_type": "code",
   "execution_count": 47,
   "id": "44b0d4d8-4e60-4e21-8604-c7db25dba5ce",
   "metadata": {},
   "outputs": [
    {
     "data": {
      "text/plain": [
       "43      Czech Republic\n",
       "151    Slovak Republic\n",
       "24            Bulgaria\n",
       "136             Poland\n",
       "73             Hungary\n",
       "139            Romania\n",
       "111            Moldova\n",
       "181            Ukraine\n",
       "14             Belarus\n",
       "140             Russia\n",
       "Name: country, dtype: object"
      ]
     },
     "execution_count": 47,
     "metadata": {},
     "output_type": "execute_result"
    }
   ],
   "source": [
    "df['region'].value_counts()['Eastern Europe']\n",
    "df[df['region']=='Eastern Europe']['country']"
   ]
  },
  {
   "cell_type": "code",
   "execution_count": 52,
   "id": "a9ad3823-47d8-4325-b71b-7e898391459d",
   "metadata": {},
   "outputs": [
    {
     "data": {
      "text/plain": [
       "34    Xi Jinping\n",
       "Name: political_leader, dtype: object"
      ]
     },
     "execution_count": 52,
     "metadata": {},
     "output_type": "execute_result"
    }
   ],
   "source": [
    "df[df['population']==df['population'].nlargest(2).iloc[1]]['political_leader']"
   ]
  },
  {
   "cell_type": "code",
   "execution_count": 55,
   "id": "3bae0111-c72c-487d-9ff0-e3ef2ee715a6",
   "metadata": {},
   "outputs": [
    {
     "data": {
      "text/plain": [
       "np.int64(7)"
      ]
     },
     "execution_count": 55,
     "metadata": {},
     "output_type": "execute_result"
    }
   ],
   "source": [
    "df[df['political_leader'].isna()]['country'].count()"
   ]
  },
  {
   "cell_type": "code",
   "execution_count": 57,
   "id": "a603f936-3d29-42ff-9149-c1137b92f672",
   "metadata": {},
   "outputs": [],
   "source": [
    "count=0\n",
    "def counting(txt):\n",
    "    global count\n",
    "    if 'republic' in txt.lower():\n",
    "        count+=1\n",
    "    return txt\n",
    "df['country_long']=df['country_long'].apply(counting)"
   ]
  },
  {
   "cell_type": "code",
   "execution_count": 58,
   "id": "58e67065-bf42-45b5-afc3-c8d6262c9b03",
   "metadata": {},
   "outputs": [
    {
     "data": {
      "text/plain": [
       "125"
      ]
     },
     "execution_count": 58,
     "metadata": {},
     "output_type": "execute_result"
    }
   ],
   "source": [
    "count"
   ]
  },
  {
   "cell_type": "code",
   "execution_count": 65,
   "id": "19af7321-c89a-49ab-9987-70454dfd39f0",
   "metadata": {},
   "outputs": [],
   "source": [
    "africa_data=df[df['continent']=='Africa']"
   ]
  },
  {
   "cell_type": "code",
   "execution_count": 72,
   "id": "6f38cfe3-8f55-4a37-a040-ca3f3a93d779",
   "metadata": {},
   "outputs": [
    {
     "data": {
      "text/plain": [
       "125    Nigeria\n",
       "Name: country, dtype: object"
      ]
     },
     "execution_count": 72,
     "metadata": {},
     "output_type": "execute_result"
    }
   ],
   "source": [
    "africa_data[africa_data['population']==africa_data['population'].max()]['country']"
   ]
  },
  {
   "cell_type": "code",
   "execution_count": null,
   "id": "da6c990c-1656-4da2-8abb-2b7da0c0b62c",
   "metadata": {},
   "outputs": [],
   "source": []
  }
 ],
 "metadata": {
  "kernelspec": {
   "display_name": "Python 3 (ipykernel)",
   "language": "python",
   "name": "python3"
  },
  "language_info": {
   "codemirror_mode": {
    "name": "ipython",
    "version": 3
   },
   "file_extension": ".py",
   "mimetype": "text/x-python",
   "name": "python",
   "nbconvert_exporter": "python",
   "pygments_lexer": "ipython3",
   "version": "3.12.3"
  }
 },
 "nbformat": 4,
 "nbformat_minor": 5
}
